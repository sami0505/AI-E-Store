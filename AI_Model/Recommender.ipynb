{
 "cells": [
  {
   "cell_type": "code",
   "execution_count": 23,
   "metadata": {},
   "outputs": [],
   "source": [
    "# import pandas as pd\n",
    "# import matplotlib.pyplot as plt\n",
    "# import seaborn as sns\n",
    "\n",
    "# # Read data into a dataframe and \n",
    "# df = pd.read_csv('ratings.csv', dtype={\"vote\": str})\n",
    "# counts = df.groupby('reviewerID')['reviewerID'].size()\n",
    "# counts = counts[(counts >=5) & (counts <= 10)]\n",
    "# densityPlot = sns.kdeplot(counts, bw_adjust=3)\n",
    "# yLabels = densityPlot.get_yticks()\n",
    "# densityPlot.set_yticklabels('{:,.0%}'.format(y) for y in yLabels)\n",
    "# plt.xlabel(\"Number of reviews\")\n",
    "# plt.ylabel(\"Percentage of users\")\n",
    "# plt.savefig(fname=\"densityPlot\")\n",
    "# plt.show()"
   ]
  },
  {
   "cell_type": "code",
   "execution_count": 24,
   "metadata": {},
   "outputs": [],
   "source": [
    "# import pandas as pd\n",
    "# import pickle\n",
    "# # Read ratings into a dataframe and narrow down reviewers to desired review count\n",
    "# ratings = pd.read_csv('ratings.csv', dtype={\"vote\": str})\n",
    "# counts = ratings.groupby('reviewerID')['reviewerID'].size()\n",
    "# counts = counts[(counts >=5) & (counts <= 10)]\n",
    "\n",
    "# # Create and apply mask that removes all other reviewers.\n",
    "# mask = ratings['reviewerID'].isin(counts.index)\n",
    "# ratings = ratings[mask]\n",
    "\n",
    "# # Read metadata into dataframe and define asins that are used by making a set\n",
    "# metadata = pd.read_csv(\"metadata.csv\")\n",
    "# used_asins = set(ratings[\"asin\"])\n",
    "\n",
    "# # Create and apply mask that removes unreferenced items\n",
    "# mask = metadata[\"asin\"].isin(used_asins)\n",
    "# metadata = metadata[mask]\n",
    "# metadata.to_pickle(\"metadata.pickle\")\n",
    "# ratings.to_pickle(\"ratings.pickle\")\n"
   ]
  },
  {
   "cell_type": "code",
   "execution_count": null,
   "metadata": {},
   "outputs": [],
   "source": []
  }
 ],
 "metadata": {
  "kernelspec": {
   "display_name": "Python 3 (ipykernel)",
   "language": "python",
   "name": "python3"
  },
  "language_info": {
   "codemirror_mode": {
    "name": "ipython",
    "version": 3
   },
   "file_extension": ".py",
   "mimetype": "text/x-python",
   "name": "python",
   "nbconvert_exporter": "python",
   "pygments_lexer": "ipython3",
   "version": "3.10.4"
  },
  "vscode": {
   "interpreter": {
    "hash": "79b64650700e93176e44f3302dc5d66caf1d57b10c2f77dc934e38ab1cdc6599"
   }
  }
 },
 "nbformat": 4,
 "nbformat_minor": 2
}

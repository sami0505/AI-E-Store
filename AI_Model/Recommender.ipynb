{
 "cells": [
  {
   "cell_type": "code",
   "execution_count": 93,
   "metadata": {},
   "outputs": [],
   "source": [
    "# import pandas as pd\n",
    "# import matplotlib.pyplot as plt\n",
    "# import seaborn as sns\n",
    "\n",
    "# # Read data into a dataframe and \n",
    "# df = pd.read_csv('ratings.csv', dtype={\"vote\": str})\n",
    "# counts = df.groupby('reviewerID')['reviewerID'].size()\n",
    "# counts = counts[(counts >=5) & (counts <= 10)]\n",
    "# densityPlot = sns.kdeplot(counts, bw_adjust=3)\n",
    "# yLabels = densityPlot.get_yticks()\n",
    "# densityPlot.set_yticklabels('{:,.0%}'.format(y) for y in yLabels)\n",
    "# plt.xlabel(\"Number of reviews\")\n",
    "# plt.ylabel(\"Percentage of users\")\n",
    "# plt.savefig(fname=\"densityPlot\")\n",
    "# plt.show()"
   ]
  },
  {
   "cell_type": "code",
   "execution_count": 94,
   "metadata": {},
   "outputs": [],
   "source": [
    "# import pandas as pd\n",
    "\n",
    "# # Read ratings into a dataframe and narrow down reviewers to desired review count\n",
    "# ratings = pd.read_csv('ratings.csv', dtype={\"vote\": str})\n",
    "# counts = ratings.groupby('reviewerID')['reviewerID'].size()\n",
    "# counts = counts[(counts >=5) & (counts <= 10)]\n",
    "\n",
    "# # Create and apply mask that removes all other reviewers.\n",
    "# mask = ratings['reviewerID'].isin(counts.index)\n",
    "# ratings = ratings[mask]\n",
    "\n",
    "# # Read metadata into dataframe and define asins that are used by making a set\n",
    "# metadata = pd.read_csv(\"metadata.csv\")\n",
    "# used_asins = set(ratings[\"asin\"])\n",
    "\n",
    "# # Create and apply mask that removes unreferenced items\n",
    "# mask = metadata[\"asin\"].isin(used_asins)\n",
    "# metadata = metadata[mask]\n",
    "# metadata.to_pickle(\"metadata.pickle\")\n",
    "# ratings.to_pickle(\"ratings.pickle\")\n"
   ]
  },
  {
   "cell_type": "code",
   "execution_count": 95,
   "metadata": {},
   "outputs": [],
   "source": [
    "# import pandas as pd\n",
    "# import numpy as np\n",
    "# from scipy.sparse import csr_matrix, save_npz\n",
    "# ratings : pd.DataFrame = pd.read_pickle(\"ratings.pickle\")\n",
    "# metadata : pd.DataFrame = pd.read_pickle(\"metadata.pickle\")\n",
    "# ratings = ratings[[\"reviewerID\", \"asin\", \"overall\"]]\n",
    "\n",
    "# # Series of each unique value of reviewerID and asin \n",
    "# reviewerIDs = ratings['reviewerID'].unique()\n",
    "# asins = ratings[\"asin\"].unique()\n",
    "# # Dictionary that maps reviewers to an index\n",
    "# reviewerMap = {reviewerID: i for i, reviewerID in enumerate(reviewerIDs)}\n",
    "\n",
    "# # Dictionary that maps asins to an index\n",
    "# asinMap = {asin: i for i, asin in enumerate(asins)}\n",
    "\n",
    "# # Initialize the utility matrix with zeros\n",
    "# utilityMatrixArray = np.zeros((len(reviewerIDs), len(asins)), \"int8\")\n",
    "\n",
    "# # Fill in the utility matrix with data from the records array\n",
    "# for row in ratings.itertuples():\n",
    "#     reviewerIndex = reviewerMap[row.reviewerID]\n",
    "#     asinIndex = asinMap[row.asin]\n",
    "#     utilityMatrixArray[reviewerIndex, asinIndex] = row.overall\n",
    "# utilityMatrix = csr_matrix(utilityMatrixArray)\n",
    "# save_npz(\"utilityMatrix.npz\", utilityMatrix)"
   ]
  },
  {
   "cell_type": "code",
   "execution_count": 96,
   "metadata": {},
   "outputs": [
    {
     "data": {
      "text/plain": [
       "0.20602141827315013"
      ]
     },
     "execution_count": 96,
     "metadata": {},
     "output_type": "execute_result"
    }
   ],
   "source": [
    "import pandas as pd\n",
    "import numpy as np\n",
    "import matplotlib.pyplot as plt\n",
    "import seaborn as sns\n",
    "from math import sqrt\n",
    "from scipy.sparse import load_npz\n",
    "from sklearn.decomposition import TruncatedSVD\n",
    "\n",
    "ratings : pd.DataFrame = pd.read_pickle(\"ratings.pickle\")\n",
    "metadata : pd.DataFrame = pd.read_pickle(\"metadata.pickle\")\n",
    "utilityMatrix = load_npz(\"utilityMatrix.npz\")\n",
    "\n",
    "# Create training and testing datasets\n",
    "trainingData = utilityMatrix[:113404]\n",
    "testingData = utilityMatrix[113404:]\n",
    "\n",
    "# X_train, X_test= train_test_split(utilityMatrix, test_size=0.2, random_state=42)\n",
    "model = TruncatedSVD(n_components=50, random_state=42).fit(trainingData)\n",
    "resultant_matrix = model.transform(trainingData)\n",
    "var_explained = model.explained_variance_ratio_.sum()\n",
    "var_explained\n",
    "# densityPlot = sns.kdeplot(, y=svd.explained_variance_ratio_, bw_adjust=1)\n",
    "# plt.show()"
   ]
  }
 ],
 "metadata": {
  "kernelspec": {
   "display_name": "Python 3 (ipykernel)",
   "language": "python",
   "name": "python3"
  },
  "language_info": {
   "codemirror_mode": {
    "name": "ipython",
    "version": 3
   },
   "file_extension": ".py",
   "mimetype": "text/x-python",
   "name": "python",
   "nbconvert_exporter": "python",
   "pygments_lexer": "ipython3",
   "version": "3.10.4"
  },
  "vscode": {
   "interpreter": {
    "hash": "79b64650700e93176e44f3302dc5d66caf1d57b10c2f77dc934e38ab1cdc6599"
   }
  }
 },
 "nbformat": 4,
 "nbformat_minor": 2
}

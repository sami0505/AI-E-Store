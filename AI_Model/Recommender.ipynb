{
 "cells": [
  {
   "cell_type": "code",
   "execution_count": 109,
   "metadata": {},
   "outputs": [],
   "source": [
    "# import pandas as pd\n",
    "# import matplotlib.pyplot as plt\n",
    "# import seaborn as sns\n",
    "\n",
    "# # Read data into a dataframe and \n",
    "# df = pd.read_csv('ratings.csv', dtype={\"vote\": str})\n",
    "# counts = df.groupby('reviewerID')['reviewerID'].size()\n",
    "# counts = counts[(counts >=5) & (counts <= 10)]\n",
    "# densityPlot = sns.kdeplot(counts, bw_adjust=3)\n",
    "# yLabels = densityPlot.get_yticks()\n",
    "# densityPlot.set_yticklabels('{:,.0%}'.format(y) for y in yLabels)\n",
    "# plt.xlabel(\"Number of reviews\")\n",
    "# plt.ylabel(\"Percentage of users\")\n",
    "# plt.savefig(fname=\"densityPlot\")\n",
    "# plt.show()"
   ]
  },
  {
   "cell_type": "code",
   "execution_count": 110,
   "metadata": {},
   "outputs": [],
   "source": [
    "# import pandas as pd\n",
    "\n",
    "# # Read ratings into a dataframe and narrow down reviewers to desired review count\n",
    "# ratings = pd.read_csv('ratings.csv', dtype={\"vote\": str})\n",
    "# counts = ratings.groupby('reviewerID')['reviewerID'].size()\n",
    "# counts = counts[(counts >=5) & (counts <= 10)]\n",
    "\n",
    "# # Create and apply mask that removes all other reviewers.\n",
    "# mask = ratings['reviewerID'].isin(counts.index)\n",
    "# ratings = ratings[mask]\n",
    "\n",
    "# # Read metadata into dataframe and define asins that are used by making a set\n",
    "# metadata = pd.read_csv(\"metadata.csv\")\n",
    "# used_asins = set(ratings[\"asin\"])\n",
    "\n",
    "# # Create and apply mask that removes unreferenced items\n",
    "# mask = metadata[\"asin\"].isin(used_asins)\n",
    "# metadata = metadata[mask]\n",
    "# metadata.to_pickle(\"metadata.pickle\")\n",
    "# ratings.to_pickle(\"ratings.pickle\")\n"
   ]
  },
  {
   "cell_type": "code",
   "execution_count": 111,
   "metadata": {},
   "outputs": [],
   "source": [
    "# import pandas as pd\n",
    "# import numpy as np\n",
    "# from scipy.sparse import csr_matrix, save_npz\n",
    "# ratings : pd.DataFrame = pd.read_pickle(\"ratings.pickle\")\n",
    "# metadata : pd.DataFrame = pd.read_pickle(\"metadata.pickle\")\n",
    "# ratings = ratings[[\"reviewerID\", \"asin\", \"overall\"]]\n",
    "\n",
    "# # Series of each unique value of reviewerID and asin \n",
    "# reviewerIDs = ratings['reviewerID'].unique()\n",
    "# asins = ratings[\"asin\"].unique()\n",
    "# # Dictionary that maps reviewers to an index\n",
    "# reviewerMap = {reviewerID: i for i, reviewerID in enumerate(reviewerIDs)}\n",
    "\n",
    "# # Dictionary that maps asins to an index\n",
    "# asinMap = {asin: i for i, asin in enumerate(asins)}\n",
    "\n",
    "# # Initialize the utility matrix with zeros\n",
    "# utilityMatrixArray = np.zeros((len(reviewerIDs), len(asins)), \"int8\")\n",
    "\n",
    "# # Fill in the utility matrix with data from the records array\n",
    "# for row in ratings.itertuples():\n",
    "#     reviewerIndex = reviewerMap[row.reviewerID]\n",
    "#     asinIndex = asinMap[row.asin]\n",
    "#     utilityMatrixArray[reviewerIndex, asinIndex] = row.overall\n",
    "# utilityMatrix = csr_matrix(utilityMatrixArray)\n",
    "# save_npz(\"utilityMatrix.npz\", utilityMatrix)"
   ]
  },
  {
   "cell_type": "code",
   "execution_count": 112,
   "metadata": {},
   "outputs": [
    {
     "name": "stdout",
     "output_type": "stream",
     "text": [
      "The predictions for B0008IVI3M have 0 / 19 predictions in the hoodie category.\n",
      "That is a 0.0% correctness\n",
      "The predictions for B0008MF4QK have 0 / 19 predictions in the hoodie category.\n",
      "That is a 0.0% correctness\n",
      "The predictions for B0009G9QWI have 0 / 19 predictions in the hoodie category.\n",
      "That is a 0.0% correctness\n",
      "The predictions for B000B6A5HG have 0 / 19 predictions in the hoodie category.\n",
      "That is a 0.0% correctness\n"
     ]
    }
   ],
   "source": [
    "import pandas as pd\n",
    "import numpy as np\n",
    "from scipy.sparse import load_npz\n",
    "from sklearn.neighbors import NearestNeighbors\n",
    "\n",
    "# Get all data needed\n",
    "ratings : pd.DataFrame = pd.read_pickle(\"ratings.pickle\")\n",
    "metadata : pd.DataFrame = pd.read_pickle(\"metadata.pickle\")\n",
    "utilityMatrix = load_npz(\"utilityMatrix.npz\")\n",
    "\n",
    "asins = ratings[\"asin\"].unique()\n",
    "asinMap = {asin: i for i, asin in enumerate(asins)}\n",
    "\n",
    "# Creation of test data\n",
    "hoodies = metadata[metadata['category'].apply(lambda c: \"Hoodie\" in c)]\n",
    "hoodieAsins = hoodies[\"asin\"]\n",
    "testAsins = hoodieAsins[5:9]\n",
    "testIndices = testAsins.index.to_list()\n",
    "\n",
    "# Create a NearestNeighbors model with cosine similarity\n",
    "model = NearestNeighbors(metric='cosine', algorithm='brute', n_neighbors=20)\n",
    "\n",
    "# Fit the model to the item vectors\n",
    "model.fit(utilityMatrix.T)\n",
    "\n",
    "# Get the nearest neighbors of test items\n",
    "_, indices = model.kneighbors(utilityMatrix.T[testIndices], n_neighbors=20)\n",
    "\n",
    "# The asinDict contains a pair of an asin and its predictions in a set.\n",
    "asinDict = {}\n",
    "\n",
    "# Iterate through the test items\n",
    "for i, idx in enumerate(testIndices):\n",
    "    neighborIndices = indices[i][1:]\n",
    "\n",
    "    # Get the current asin\n",
    "    currentAsin = testAsins[idx] \n",
    "    predictionsList = []\n",
    "\n",
    "    # Iterate through the nearest neighbors and add their asins to predictionsList\n",
    "    for neighborIndex in neighborIndices:\n",
    "        predictedAsin = metadata.iloc[neighborIndex]['asin']\n",
    "        predictionsList.append(predictedAsin)\n",
    "    asinDict[currentAsin] = predictionsList\n",
    "\n",
    "# Assessing accuracy based on percentage of hoodies in recommmendations.\n",
    "for asin in testAsins:\n",
    "    asinPredictions = asinDict[asin]\n",
    "    counter = 0\n",
    "    for predictedAsin in asinPredictions:\n",
    "        if predictedAsin in hoodieAsins:\n",
    "            counter += 1\n",
    "        correctness = (counter / len(predictionsList)) * 100\n",
    "    print(f\"The predictions for {asin} have {counter} / {len(predictionsList)} predictions in the hoodie category.\\nThat is a {correctness}% correctness\")"
   ]
  }
 ],
 "metadata": {
  "kernelspec": {
   "display_name": "Python 3 (ipykernel)",
   "language": "python",
   "name": "python3"
  },
  "language_info": {
   "codemirror_mode": {
    "name": "ipython",
    "version": 3
   },
   "file_extension": ".py",
   "mimetype": "text/x-python",
   "name": "python",
   "nbconvert_exporter": "python",
   "pygments_lexer": "ipython3",
   "version": "3.10.4"
  },
  "vscode": {
   "interpreter": {
    "hash": "79b64650700e93176e44f3302dc5d66caf1d57b10c2f77dc934e38ab1cdc6599"
   }
  }
 },
 "nbformat": 4,
 "nbformat_minor": 2
}

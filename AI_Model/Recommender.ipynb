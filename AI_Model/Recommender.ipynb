{
 "cells": [
  {
   "cell_type": "code",
   "execution_count": 1,
   "metadata": {},
   "outputs": [],
   "source": [
    "# import pandas as pd\n",
    "# import matplotlib.pyplot as plt\n",
    "# import seaborn as sns\n",
    "\n",
    "# # Read data into a dataframe and \n",
    "# df = pd.read_csv('ratings.csv', dtype={\"vote\": str})\n",
    "# counts = df.groupby('reviewerID')['reviewerID'].size()\n",
    "# counts = counts[(counts >=5) & (counts <= 10)]\n",
    "# densityPlot = sns.kdeplot(counts, bw_adjust=3)\n",
    "# yLabels = densityPlot.get_yticks()\n",
    "# densityPlot.set_yticklabels('{:,.0%}'.format(y) for y in yLabels)\n",
    "# plt.xlabel(\"Number of reviews\")\n",
    "# plt.ylabel(\"Percentage of users\")\n",
    "# plt.savefig(fname=\"densityPlot\")\n",
    "# plt.show()"
   ]
  },
  {
   "cell_type": "code",
   "execution_count": 2,
   "metadata": {},
   "outputs": [],
   "source": [
    "# import pandas as pd\n",
    "\n",
    "# # Read ratings into a dataframe and narrow down reviewers to desired review count\n",
    "# ratings = pd.read_csv('ratings.csv', dtype={\"vote\": str})\n",
    "# counts = ratings.groupby('reviewerID')['reviewerID'].size()\n",
    "# counts = counts[(counts >=5) & (counts <= 10)]\n",
    "\n",
    "# # Create and apply mask that removes all other reviewers.\n",
    "# mask = ratings['reviewerID'].isin(counts.index)\n",
    "# ratings = ratings[mask]\n",
    "\n",
    "# # Read metadata into dataframe and define asins that are used by making a set\n",
    "# metadata = pd.read_csv(\"metadata.csv\")\n",
    "# used_asins = set(ratings[\"asin\"])\n",
    "\n",
    "# # Create and apply mask that removes unreferenced items\n",
    "# mask = metadata[\"asin\"].isin(used_asins)\n",
    "# metadata = metadata[mask]\n",
    "# metadata.to_pickle(\"metadata.pickle\")\n",
    "# ratings.to_pickle(\"ratings.pickle\")\n"
   ]
  },
  {
   "cell_type": "code",
   "execution_count": 3,
   "metadata": {},
   "outputs": [],
   "source": [
    "# import pandas as pd\n",
    "# import numpy as np\n",
    "# from scipy.sparse import csr_matrix, save_npz\n",
    "# ratings : pd.DataFrame = pd.read_pickle(\"ratings.pickle\")\n",
    "# metadata : pd.DataFrame = pd.read_pickle(\"metadata.pickle\")\n",
    "# ratings = ratings[[\"reviewerID\", \"asin\", \"overall\"]]\n",
    "\n",
    "# # Series of each unique value of reviewerID and asin \n",
    "# reviewerIDs = ratings['reviewerID'].unique()\n",
    "# asins = ratings[\"asin\"].unique()\n",
    "# # Dictionary that maps reviewers to an index\n",
    "# reviewerMap = {reviewerID: i for i, reviewerID in enumerate(reviewerIDs)}\n",
    "\n",
    "# # Dictionary that maps asins to an index\n",
    "# asinMap = {asin: i for i, asin in enumerate(asins)}\n",
    "\n",
    "# # Initialize the utility matrix with zeros\n",
    "# utilityMatrixArray = np.zeros((len(reviewerIDs), len(asins)), \"int8\")\n",
    "\n",
    "# # Fill in the utility matrix with data from the records array\n",
    "# for row in ratings.itertuples():\n",
    "#     reviewerIndex = reviewerMap[row.reviewerID]\n",
    "#     asinIndex = asinMap[row.asin]\n",
    "#     utilityMatrixArray[reviewerIndex, asinIndex] = row.overall\n",
    "# utilityMatrix = csr_matrix(utilityMatrixArray)\n",
    "# save_npz(\"utilityMatrix.npz\", utilityMatrix)"
   ]
  },
  {
   "cell_type": "code",
   "execution_count": 4,
   "metadata": {},
   "outputs": [
    {
     "name": "stdout",
     "output_type": "stream",
     "text": [
      "(141755, 1)\n",
      "[[-0.]\n",
      " [-0.]\n",
      " [-0.]\n",
      " ...\n",
      " [-0.]\n",
      " [-0.]\n",
      " [-0.]] (141755, 1)\n"
     ]
    }
   ],
   "source": [
    "import pandas as pd\n",
    "import numpy as np\n",
    "from scipy.sparse import load_npz, csr_matrix, hstack\n",
    "from sklearn.metrics.pairwise import cosine_similarity\n",
    "\n",
    "\n",
    "ratings : pd.DataFrame = pd.read_pickle(\"ratings.pickle\")\n",
    "metadata : pd.DataFrame = pd.read_pickle(\"metadata.pickle\")\n",
    "utilityMatrix = load_npz(\"utilityMatrix.npz\")\n",
    "\n",
    "# Series of each unique value of reviewerID and asin \n",
    "reviewerIDs = ratings['reviewerID'].unique()\n",
    "asins = ratings[\"asin\"].unique()\n",
    "\n",
    "# Dictionaries that maps reviewers and asins to indexes\n",
    "reviewerMap = {reviewerID: i for i, reviewerID in enumerate(reviewerIDs)}\n",
    "asinMap = {asin: i for i, asin in enumerate(asins)}\n",
    "\n",
    "# Compute the pairwise cosine similarity between users\n",
    "user_similarity = cosine_similarity(utilityMatrix, dense_output=False).astype(\"float32\")\n",
    "\n",
    "hoodies = metadata[metadata['category'].apply(lambda c: \"Hoodie\" in c)]\n",
    "hoodieAsins = hoodies[\"asin\"]\n",
    "testAsins = hoodieAsins[5:9]\n",
    "testIndices = testAsins.index.to_list()\n",
    "\n",
    "# Create an anonymous user with four reviews\n",
    "anonymous_user = pd.DataFrame({'overall': [5, 5, 5, 5]}, index=testIndices).T\n",
    "cols = [utilityMatrix.getcol(col) for col in testIndices]\n",
    "relevantItems = hstack(cols)\n",
    "\n",
    "# Compute the similarity between the anonymous user and every other user\n",
    "user_similarity_scores = cosine_similarity(relevantItems, anonymous_user.fillna(0), dense_output=False)\n",
    "print(user_similarity_scores.shape)\n",
    "# Get the k most similar users to the anonymous user\n",
    "\n",
    "similar_user_indices = np.sort(-user_similarity_scores)\n",
    "print(similar_user_indices, similar_user_indices.shape)"
   ]
  }
 ],
 "metadata": {
  "kernelspec": {
   "display_name": "Python 3 (ipykernel)",
   "language": "python",
   "name": "python3"
  },
  "language_info": {
   "codemirror_mode": {
    "name": "ipython",
    "version": 3
   },
   "file_extension": ".py",
   "mimetype": "text/x-python",
   "name": "python",
   "nbconvert_exporter": "python",
   "pygments_lexer": "ipython3",
   "version": "3.10.4"
  },
  "vscode": {
   "interpreter": {
    "hash": "79b64650700e93176e44f3302dc5d66caf1d57b10c2f77dc934e38ab1cdc6599"
   }
  }
 },
 "nbformat": 4,
 "nbformat_minor": 2
}

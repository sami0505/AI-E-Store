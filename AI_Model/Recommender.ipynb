{
 "cells": [
  {
   "cell_type": "code",
   "execution_count": 3,
   "metadata": {},
   "outputs": [
    {
     "name": "stderr",
     "output_type": "stream",
     "text": [
      "C:\\Users\\Sami\\AppData\\Local\\Temp\\ipykernel_4160\\3849050709.py:4: DtypeWarning: Columns (1) have mixed types. Specify dtype option on import or set low_memory=False.\n",
      "  df = pd.read_csv('ratings.csv')\n"
     ]
    },
    {
     "name": "stdout",
     "output_type": "stream",
     "text": [
      "reviewerID\n",
      "A0003492LQH8LJXPWDMZ    1\n",
      "A001170867ZBE9FORRQL    5\n",
      "A0013726UYSZRLD7FZMR    6\n",
      "A00181966XZUX7KEGYLH    2\n",
      "A0019088YM52JB45AS96    2\n",
      "                       ..\n",
      "AZZZ8I44ND9GG           1\n",
      "AZZZHECGS8QGE           4\n",
      "AZZZJJPHNUQ1T           4\n",
      "AZZZMCJO078D2           1\n",
      "AZZZV0D9D5V05           6\n",
      "Name: reviewerID, Length: 764680, dtype: int64\n",
      "Mean count of duplicates: 3.242212428728357\n",
      "Median count of duplicates: 2.0\n"
     ]
    }
   ],
   "source": [
    "import pandas as pd\n",
    "\n",
    "# read data into a DataFrame\n",
    "df = pd.read_csv('ratings.csv')\n",
    "\n",
    "# # use the 'duplicated' function to create a Boolean Series indicating duplicates\n",
    "# duplicates = df.duplicated(subset=['reviewerID'])\n",
    "\n",
    "# use the 'groupby' and 'size' functions to count the number of times each value appears in the column\n",
    "counts = df.groupby('reviewerID')['reviewerID'].size()\n",
    "print(counts)\n",
    "\n",
    "# use the 'mean' and 'median' functions to calculate the mean and median of the counts\n",
    "mean_count = counts.mean()\n",
    "median_count = counts.median()\n",
    "\n",
    "print('Mean count of duplicates:', mean_count)\n",
    "print('Median count of duplicates:', median_count)"
   ]
  },
  {
   "cell_type": "code",
   "execution_count": null,
   "metadata": {},
   "outputs": [],
   "source": []
  }
 ],
 "metadata": {
  "kernelspec": {
   "display_name": "Python 3 (ipykernel)",
   "language": "python",
   "name": "python3"
  },
  "language_info": {
   "codemirror_mode": {
    "name": "ipython",
    "version": 3
   },
   "file_extension": ".py",
   "mimetype": "text/x-python",
   "name": "python",
   "nbconvert_exporter": "python",
   "pygments_lexer": "ipython3",
   "version": "3.10.4"
  },
  "vscode": {
   "interpreter": {
    "hash": "79b64650700e93176e44f3302dc5d66caf1d57b10c2f77dc934e38ab1cdc6599"
   }
  }
 },
 "nbformat": 4,
 "nbformat_minor": 2
}

{
 "cells": [
  {
   "cell_type": "code",
   "execution_count": 10,
   "id": "1423a91c",
   "metadata": {},
   "outputs": [
    {
     "ename": "TypeError",
     "evalue": "argument 'password': 'Series' object cannot be converted to 'PyBytes'",
     "output_type": "error",
     "traceback": [
      "\u001b[1;31m---------------------------------------------------------------------------\u001b[0m",
      "\u001b[1;31mTypeError\u001b[0m                                 Traceback (most recent call last)",
      "Cell \u001b[1;32mIn[10], line 13\u001b[0m\n\u001b[0;32m     11\u001b[0m unhashed\u001b[39m.\u001b[39mcolumns \u001b[39m=\u001b[39m [\u001b[39m\"\u001b[39m\u001b[39mPassword\u001b[39m\u001b[39m\"\u001b[39m]\n\u001b[0;32m     12\u001b[0m salt \u001b[39m=\u001b[39m \u001b[39mb\u001b[39m\u001b[39m\"\u001b[39m\u001b[39m$2b$12$Mr8cYTjur7w4gUtGG.P7Mu\u001b[39m\u001b[39m\"\u001b[39m\n\u001b[1;32m---> 13\u001b[0m hashed \u001b[39m=\u001b[39m unhashed\u001b[39m.\u001b[39;49mapply(bcrypt\u001b[39m.\u001b[39;49mhashpw, args\u001b[39m=\u001b[39;49m[salt])\n\u001b[0;32m     14\u001b[0m hashed\n",
      "File \u001b[1;32mc:\\Users\\Sami\\AppData\\Local\\Programs\\Python\\Python310\\lib\\site-packages\\pandas\\core\\frame.py:8845\u001b[0m, in \u001b[0;36mDataFrame.apply\u001b[1;34m(self, func, axis, raw, result_type, args, **kwargs)\u001b[0m\n\u001b[0;32m   8834\u001b[0m \u001b[39mfrom\u001b[39;00m \u001b[39mpandas\u001b[39;00m\u001b[39m.\u001b[39;00m\u001b[39mcore\u001b[39;00m\u001b[39m.\u001b[39;00m\u001b[39mapply\u001b[39;00m \u001b[39mimport\u001b[39;00m frame_apply\n\u001b[0;32m   8836\u001b[0m op \u001b[39m=\u001b[39m frame_apply(\n\u001b[0;32m   8837\u001b[0m     \u001b[39mself\u001b[39m,\n\u001b[0;32m   8838\u001b[0m     func\u001b[39m=\u001b[39mfunc,\n\u001b[1;32m   (...)\u001b[0m\n\u001b[0;32m   8843\u001b[0m     kwargs\u001b[39m=\u001b[39mkwargs,\n\u001b[0;32m   8844\u001b[0m )\n\u001b[1;32m-> 8845\u001b[0m \u001b[39mreturn\u001b[39;00m op\u001b[39m.\u001b[39;49mapply()\u001b[39m.\u001b[39m__finalize__(\u001b[39mself\u001b[39m, method\u001b[39m=\u001b[39m\u001b[39m\"\u001b[39m\u001b[39mapply\u001b[39m\u001b[39m\"\u001b[39m)\n",
      "File \u001b[1;32mc:\\Users\\Sami\\AppData\\Local\\Programs\\Python\\Python310\\lib\\site-packages\\pandas\\core\\apply.py:733\u001b[0m, in \u001b[0;36mFrameApply.apply\u001b[1;34m(self)\u001b[0m\n\u001b[0;32m    730\u001b[0m \u001b[39melif\u001b[39;00m \u001b[39mself\u001b[39m\u001b[39m.\u001b[39mraw:\n\u001b[0;32m    731\u001b[0m     \u001b[39mreturn\u001b[39;00m \u001b[39mself\u001b[39m\u001b[39m.\u001b[39mapply_raw()\n\u001b[1;32m--> 733\u001b[0m \u001b[39mreturn\u001b[39;00m \u001b[39mself\u001b[39;49m\u001b[39m.\u001b[39;49mapply_standard()\n",
      "File \u001b[1;32mc:\\Users\\Sami\\AppData\\Local\\Programs\\Python\\Python310\\lib\\site-packages\\pandas\\core\\apply.py:857\u001b[0m, in \u001b[0;36mFrameApply.apply_standard\u001b[1;34m(self)\u001b[0m\n\u001b[0;32m    856\u001b[0m \u001b[39mdef\u001b[39;00m \u001b[39mapply_standard\u001b[39m(\u001b[39mself\u001b[39m):\n\u001b[1;32m--> 857\u001b[0m     results, res_index \u001b[39m=\u001b[39m \u001b[39mself\u001b[39;49m\u001b[39m.\u001b[39;49mapply_series_generator()\n\u001b[0;32m    859\u001b[0m     \u001b[39m# wrap results\u001b[39;00m\n\u001b[0;32m    860\u001b[0m     \u001b[39mreturn\u001b[39;00m \u001b[39mself\u001b[39m\u001b[39m.\u001b[39mwrap_results(results, res_index)\n",
      "File \u001b[1;32mc:\\Users\\Sami\\AppData\\Local\\Programs\\Python\\Python310\\lib\\site-packages\\pandas\\core\\apply.py:873\u001b[0m, in \u001b[0;36mFrameApply.apply_series_generator\u001b[1;34m(self)\u001b[0m\n\u001b[0;32m    870\u001b[0m \u001b[39mwith\u001b[39;00m option_context(\u001b[39m\"\u001b[39m\u001b[39mmode.chained_assignment\u001b[39m\u001b[39m\"\u001b[39m, \u001b[39mNone\u001b[39;00m):\n\u001b[0;32m    871\u001b[0m     \u001b[39mfor\u001b[39;00m i, v \u001b[39min\u001b[39;00m \u001b[39menumerate\u001b[39m(series_gen):\n\u001b[0;32m    872\u001b[0m         \u001b[39m# ignore SettingWithCopy here in case the user mutates\u001b[39;00m\n\u001b[1;32m--> 873\u001b[0m         results[i] \u001b[39m=\u001b[39m \u001b[39mself\u001b[39;49m\u001b[39m.\u001b[39;49mf(v)\n\u001b[0;32m    874\u001b[0m         \u001b[39mif\u001b[39;00m \u001b[39misinstance\u001b[39m(results[i], ABCSeries):\n\u001b[0;32m    875\u001b[0m             \u001b[39m# If we have a view on v, we need to make a copy because\u001b[39;00m\n\u001b[0;32m    876\u001b[0m             \u001b[39m#  series_generator will swap out the underlying data\u001b[39;00m\n\u001b[0;32m    877\u001b[0m             results[i] \u001b[39m=\u001b[39m results[i]\u001b[39m.\u001b[39mcopy(deep\u001b[39m=\u001b[39m\u001b[39mFalse\u001b[39;00m)\n",
      "File \u001b[1;32mc:\\Users\\Sami\\AppData\\Local\\Programs\\Python\\Python310\\lib\\site-packages\\pandas\\core\\apply.py:138\u001b[0m, in \u001b[0;36mApply.__init__.<locals>.f\u001b[1;34m(x)\u001b[0m\n\u001b[0;32m    137\u001b[0m \u001b[39mdef\u001b[39;00m \u001b[39mf\u001b[39m(x):\n\u001b[1;32m--> 138\u001b[0m     \u001b[39mreturn\u001b[39;00m func(x, \u001b[39m*\u001b[39margs, \u001b[39m*\u001b[39m\u001b[39m*\u001b[39mkwargs)\n",
      "File \u001b[1;32mc:\\Users\\Sami\\AppData\\Local\\Programs\\Python\\Python310\\lib\\site-packages\\bcrypt\\__init__.py:84\u001b[0m, in \u001b[0;36mhashpw\u001b[1;34m(password, salt)\u001b[0m\n\u001b[0;32m     76\u001b[0m \u001b[39m# bcrypt originally suffered from a wraparound bug:\u001b[39;00m\n\u001b[0;32m     77\u001b[0m \u001b[39m# http://www.openwall.com/lists/oss-security/2012/01/02/4\u001b[39;00m\n\u001b[0;32m     78\u001b[0m \u001b[39m# This bug was corrected in the OpenBSD source by truncating inputs to 72\u001b[39;00m\n\u001b[0;32m     79\u001b[0m \u001b[39m# bytes on the updated prefix $2b$, but leaving $2a$ unchanged for\u001b[39;00m\n\u001b[0;32m     80\u001b[0m \u001b[39m# compatibility. However, pyca/bcrypt 2.0.0 *did* correctly truncate inputs\u001b[39;00m\n\u001b[0;32m     81\u001b[0m \u001b[39m# on $2a$, so we do it here to preserve compatibility with 2.0.0\u001b[39;00m\n\u001b[0;32m     82\u001b[0m password \u001b[39m=\u001b[39m password[:\u001b[39m72\u001b[39m]\n\u001b[1;32m---> 84\u001b[0m \u001b[39mreturn\u001b[39;00m _bcrypt\u001b[39m.\u001b[39;49mhashpass(password, salt)\n",
      "\u001b[1;31mTypeError\u001b[0m: argument 'password': 'Series' object cannot be converted to 'PyBytes'"
     ]
    }
   ],
   "source": [
    "import pandas as pd\n",
    "import bcrypt\n",
    "\n",
    "# This replaces the \\n at the end of a txt line with `, which is a character not used in the dataset.\n",
    "with open(\"rockyou.txt\", \"r\") as passFile:\n",
    "    i = 1\n",
    "    for line in passFile:\n",
    "        line.replace(\"\\n\", \"`\")\n",
    "        i = i + 1\n",
    "unhashed = pd.read_csv('rockyou.txt', delimiter=\"`\", header=None)\n",
    "unhashed.columns = [\"Password\"]\n",
    "salt = b\"$2b$12$Mr8cYTjur7w4gUtGG.P7Mu\"\n",
    "hashed = unhashed.apply(bcrypt.hashpw, args=[,salt])\n",
    "hashed"
   ]
  }
 ],
 "metadata": {
  "kernelspec": {
   "display_name": "Python 3 (ipykernel)",
   "language": "python",
   "name": "python3"
  },
  "language_info": {
   "codemirror_mode": {
    "name": "ipython",
    "version": 3
   },
   "file_extension": ".py",
   "mimetype": "text/x-python",
   "name": "python",
   "nbconvert_exporter": "python",
   "pygments_lexer": "ipython3",
   "version": "3.10.4"
  },
  "vscode": {
   "interpreter": {
    "hash": "79b64650700e93176e44f3302dc5d66caf1d57b10c2f77dc934e38ab1cdc6599"
   }
  }
 },
 "nbformat": 4,
 "nbformat_minor": 5
}
